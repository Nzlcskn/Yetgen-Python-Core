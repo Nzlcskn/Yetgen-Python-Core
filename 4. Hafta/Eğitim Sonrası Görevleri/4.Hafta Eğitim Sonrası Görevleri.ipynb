{
 "cells": [
  {
   "cell_type": "markdown",
   "metadata": {},
   "source": [
    "# Problem 1\n",
    "`ogrenciler` adında bir sözlük oluşturunuz. Kullanıcıdan döngü yardımıyla 3 öğrenci için veri girmesini isteyerek öğrencilerin sırasıyla okul numarası, isim, soy isim, telefon numarası ve doğum tarihi bilgilerini alınız. Aldığınız öğrenci bilgilerini yine aynı döngü yardımıyla `ogrenciler` adındaki sözlükte saklayınız. Daha sonra öğrenci bilgilerinin bulunduğu sözlük yapısını ekrana bastırınız.\n",
    "\n"
   ]
  },
  {
   "cell_type": "code",
   "execution_count": 1,
   "metadata": {},
   "outputs": [
    {
     "name": "stdout",
     "output_type": "stream",
     "text": [
      "********\n",
      "{1: {'No': '85', 'İsim': 'Nazlı', 'Soy isim': 'Coşkun', 'Telefon': '55585585625', 'Dogum Tarihi': '2004'}}\n",
      "********\n",
      "{1: {'No': '85', 'İsim': 'Nazlı', 'Soy isim': 'Coşkun', 'Telefon': '55585585625', 'Dogum Tarihi': '2004'}, 2: {'No': '62', 'İsim': 'Arda', 'Soy isim': 'Ay', 'Telefon': '52185452545', 'Dogum Tarihi': '2004'}}\n",
      "********\n",
      "{1: {'No': '85', 'İsim': 'Nazlı', 'Soy isim': 'Coşkun', 'Telefon': '55585585625', 'Dogum Tarihi': '2004'}, 2: {'No': '62', 'İsim': 'Arda', 'Soy isim': 'Ay', 'Telefon': '52185452545', 'Dogum Tarihi': '2004'}, 3: {'No': 'asdhahd', 'İsim': 'asadasd', 'Soy isim': 'sadasdas', 'Telefon': '51515651', 'Dogum Tarihi': '62525'}}\n"
     ]
    }
   ],
   "source": [
    "ogrenciler = {}\n",
    "for i in range(1,4):\n",
    "    okulnu = input(\"Okul numarasını giriniz: \")\n",
    "    isim = input(\"Adınızı giriniz: \")\n",
    "    soyisim = input(\"Soyadınızı giriniz: \")\n",
    "    telefon = input(\"Telefon numarasınızı giriniz: \")\n",
    "    dogumtarihi = input(\"Dogumtarihinizi giriniz: \")\n",
    "    print(\"********\")\n",
    "    ogrenciler[i] = {\n",
    "        \"No\" : okulnu,\n",
    "        \"İsim\" : isim,\n",
    "        \"Soy isim\" : soyisim, \n",
    "        \"Telefon\" : telefon,\n",
    "        \"Dogum Tarihi\" : dogumtarihi\n",
    "    }\n",
    "\n",
    "    print(ogrenciler)"
   ]
  },
  {
   "cell_type": "markdown",
   "metadata": {},
   "source": [
    "# Problem 2\n",
    "\n",
    "### a - Biraz ısınarak başlayalım!\n",
    "\n",
    "```\n",
    "numbers = [5,10,10,15,15,15,20,20,20,20]\n",
    "```\n",
    "\n",
    "Yukarıda `numbers` adında 10 elemanlı bir liste verilmiştir. Bu listenin her elemanını kontrol eden ve tekrar eden elemanları bir kez olacak şekilde başka bir listeye kopyalayan bir program yazınız. Son olarak oluşturduğunuz listeyi ekrana bastırınız.\n",
    "\n",
    "\n",
    "\n",
    "\n",
    "```\n",
    ">Output\n",
    "[5, 10, 15, 20]\n",
    "```\n"
   ]
  },
  {
   "cell_type": "code",
   "execution_count": 2,
   "metadata": {},
   "outputs": [
    {
     "name": "stdout",
     "output_type": "stream",
     "text": [
      "[5]\n",
      "[5, 10]\n",
      "[5, 10, 15]\n",
      "[5, 10, 15, 20]\n"
     ]
    }
   ],
   "source": [
    "numbers = [5,10,10,15,15,15,20,20,20,20]\n",
    "\n",
    "unique = []\n",
    "for number in numbers:\n",
    "    if number in unique:\n",
    "        continue\n",
    "\n",
    "    else:\n",
    "        unique.append(number)\n",
    "\n",
    "        print(unique)"
   ]
  },
  {
   "cell_type": "markdown",
   "metadata": {},
   "source": [
    "### 🌶️ b) Hadi işi biraz daha zorlaştıralım! \n",
    "\n",
    "\n",
    "Şimdiyse senden `numbers` isimli listedeki tekrar eden elemanları `repeatNumbers` adındaki listeye; tekrar etmeyen elemanları `uniqueNumbers`adındaki listeye kopyalayan yazmanı ve listeleri ekrana bastırmanı bekliyoruz\n",
    "\n",
    "```\n",
    ">Output\n",
    "Tekrar Eden Elemanlar: [10, 10, 15, 15, 15, 20, 20, 20, 20]\n",
    "Tekrar Etmeyen Elemanlar: [5]\n",
    "```"
   ]
  },
  {
   "cell_type": "code",
   "execution_count": 3,
   "metadata": {},
   "outputs": [
    {
     "name": "stdout",
     "output_type": "stream",
     "text": [
      "Tekrarlanan elemanlar :  [10]\n",
      "Tekrarlanmayan elemanlar :  [5]\n",
      "Tekrarlanan elemanlar :  [10, 10]\n",
      "Tekrarlanmayan elemanlar :  [5]\n",
      "Tekrarlanan elemanlar :  [10, 10, 15]\n",
      "Tekrarlanmayan elemanlar :  [5]\n",
      "Tekrarlanan elemanlar :  [10, 10, 15, 15]\n",
      "Tekrarlanmayan elemanlar :  [5]\n",
      "Tekrarlanan elemanlar :  [10, 10, 15, 15, 15]\n",
      "Tekrarlanmayan elemanlar :  [5]\n",
      "Tekrarlanan elemanlar :  [10, 10, 15, 15, 15, 20]\n",
      "Tekrarlanmayan elemanlar :  [5]\n",
      "Tekrarlanan elemanlar :  [10, 10, 15, 15, 15, 20, 20]\n",
      "Tekrarlanmayan elemanlar :  [5]\n",
      "Tekrarlanan elemanlar :  [10, 10, 15, 15, 15, 20, 20, 20]\n",
      "Tekrarlanmayan elemanlar :  [5]\n",
      "Tekrarlanan elemanlar :  [10, 10, 15, 15, 15, 20, 20, 20, 20]\n",
      "Tekrarlanmayan elemanlar :  [5]\n"
     ]
    }
   ],
   "source": [
    "numbers = [5,10,10,15,15,15,20,20,20,20]\n",
    "unique = []\n",
    "repeat = []\n",
    "for number in numbers:\n",
    "    if numbers.count(number) == 1:\n",
    "        unique.append(number)\n",
    "    else:\n",
    "        repeat.append(number)\n",
    "        print(\"Tekrarlanan elemanlar : \" , repeat)\n",
    "        print(\"Tekrarlanmayan elemanlar : \" , unique)"
   ]
  },
  {
   "cell_type": "markdown",
   "metadata": {},
   "source": [
    "# Problem 3\n",
    "sn1 = {1,2,3,4,5}\n",
    "\n",
    "sn2 = {4,5,6,7,8}\n",
    "\n",
    " Verilen 2 adet küme için kesişimlerini, farklarını ve birleşimlerini bulunuz. "
   ]
  },
  {
   "cell_type": "code",
   "execution_count": 6,
   "metadata": {},
   "outputs": [
    {
     "name": "stdout",
     "output_type": "stream",
     "text": [
      "Keşişimleri {4, 5}\n",
      "{1, 2, 3}\n",
      "{1, 2, 3, 4, 5, 6, 7, 8}\n"
     ]
    }
   ],
   "source": [
    "sn1 = {1,2,3,4,5}\n",
    "sn2 = {4,5,6,7,8}\n",
    "kesisim = sn1.intersection(sn2)\n",
    "\n",
    "print(\"Keşişimleri\" , kesisim)\n",
    "\n",
    "sn1 = {1,2,3,4,5}\n",
    "sn2 = {4,5,6,7,8}\n",
    "\n",
    "fark = sn1.difference(sn2)\n",
    "\n",
    "print(fark)\n",
    "\n",
    "sn1 = {1,2,3,4,5}\n",
    "sn2 = {4,5,6,7,8}\n",
    "\n",
    "birlesim = sn1.union(sn2)\n",
    "\n",
    "print(birlesim)\n",
    "\n",
    "\n",
    "\n",
    "\n"
   ]
  },
  {
   "cell_type": "markdown",
   "metadata": {},
   "source": [
    "# Problem 4\n",
    "\n",
    "Buradaki işlemlerimizin tamamı stringler içindir. Aşağıda verilecek olan metodlar için kendinizin örnek yaratması gerekmektedir. \n",
    "\n",
    "Örneğin `upper` için `string` değişkeni oluştururken` k = \"BAC\"` şeklinde oluşturmayınız. Bunun yerine k değişkenini `k = \"bac`\" şeklinde oluşturmanız `upper` metodundaki değişimi görebilmeniz için daha iyi olacaktır.\n",
    "\n",
    "Bütün metodlardaki değişimin gözle görülür şekilde değişimi beklenmektedir.\n",
    "\n",
    "\n",
    "1- capitalize(), lower(), upper(), swapcase(), title(), replace()\n",
    "\n",
    "2- endswith(), startswith(), find(), index(), count()\n",
    "\n",
    "3- split(), strip(), join(), islower(), isalpha(), isdigit()\n",
    "\n",
    "\n",
    "Yukarıdaki `string` metodlarındaki değişimleri görebildiğimiz bir program yazınız.\n"
   ]
  },
  {
   "cell_type": "code",
   "execution_count": null,
   "metadata": {},
   "outputs": [],
   "source": [
    "# 4.Problemin Çözümünü Buraya Yazınız"
   ]
  }
 ],
 "metadata": {
  "kernelspec": {
   "display_name": "Python 3.10.5 64-bit",
   "language": "python",
   "name": "python3"
  },
  "language_info": {
   "codemirror_mode": {
    "name": "ipython",
    "version": 3
   },
   "file_extension": ".py",
   "mimetype": "text/x-python",
   "name": "python",
   "nbconvert_exporter": "python",
   "pygments_lexer": "ipython3",
   "version": "3.12.3"
  },
  "orig_nbformat": 4,
  "vscode": {
   "interpreter": {
    "hash": "5026d2d6e7aaaaba093def813beadff083d8733e4a511af01735cbabd156995d"
   }
  }
 },
 "nbformat": 4,
 "nbformat_minor": 2
}
